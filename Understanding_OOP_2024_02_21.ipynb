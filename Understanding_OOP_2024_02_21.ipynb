{
 "cells": [
  {
   "cell_type": "code",
   "execution_count": 1,
   "id": "49d2c82a-9801-4a29-afdb-282521c84366",
   "metadata": {},
   "outputs": [
    {
     "name": "stdout",
     "output_type": "stream",
     "text": [
      "hello\n"
     ]
    }
   ],
   "source": [
    "# you basicially write it one by one in a script type way\n",
    "print(\"hello\") "
   ]
  },
  {
   "cell_type": "code",
   "execution_count": 2,
   "id": "6ff92831-0fc8-4f8b-baad-6a389aa3d35a",
   "metadata": {
    "tags": []
   },
   "outputs": [],
   "source": [
    "#organize as functions, we are defining it but not invoking it\n",
    "def say_hello(first_name=\"person\",last_name=\"\"):#arguments go in the equals here): You can set standard versions of the code with \"keyword arguments\"\n",
    "    print(f\"Hello {first_name} {last_name}\")"
   ]
  },
  {
   "cell_type": "code",
   "execution_count": 3,
   "id": "698aa33d-6b85-4119-8e18-89c7a44aa646",
   "metadata": {
    "tags": []
   },
   "outputs": [
    {
     "name": "stdout",
     "output_type": "stream",
     "text": [
      "Hello person \n",
      "Hello person \n"
     ]
    }
   ],
   "source": [
    "# Now we invoke the script a couple types\n",
    "say_hello()\n",
    "say_hello()"
   ]
  },
  {
   "cell_type": "code",
   "execution_count": 4,
   "id": "c20d82be-ffb4-4a7a-9c5c-724ae0b3f8e2",
   "metadata": {
    "tags": []
   },
   "outputs": [
    {
     "data": {
      "text/plain": [
       "<function __main__.say_hello(first_name='person', last_name='')>"
      ]
     },
     "execution_count": 4,
     "metadata": {},
     "output_type": "execute_result"
    }
   ],
   "source": [
    "#Invoking the scrpt without parens just lets you know it is there but not calling it\n",
    "say_hello"
   ]
  },
  {
   "cell_type": "code",
   "execution_count": 5,
   "id": "4e18a8ad-ec1c-4822-984d-8e37bef6f862",
   "metadata": {
    "tags": []
   },
   "outputs": [
    {
     "name": "stdout",
     "output_type": "stream",
     "text": [
      "Hello Kathryn Hornburg\n"
     ]
    }
   ],
   "source": [
    "say_hello(\"Kathryn\",\"Hornburg\") #assigning with keyword arguments makes it direct to define (you know exactly what you are getting) rather than positional arguments (the 30 entry string that you get with matlab code)"
   ]
  },
  {
   "cell_type": "code",
   "execution_count": 8,
   "id": "7c81de70-9f43-4596-a6c8-c42b03a97da4",
   "metadata": {
    "tags": []
   },
   "outputs": [
    {
     "name": "stdout",
     "output_type": "stream",
     "text": [
      "<class 'str'>\n",
      "<class 'int'>\n",
      "<class 'bool'>\n",
      "<class 'list'>\n",
      "<class 'dict'>\n",
      "['__add__', '__class__', '__contains__', '__delattr__', '__dir__', '__doc__', '__eq__', '__format__', '__ge__', '__getattribute__', '__getitem__', '__getnewargs__', '__getstate__', '__gt__', '__hash__', '__init__', '__init_subclass__', '__iter__', '__le__', '__len__', '__lt__', '__mod__', '__mul__', '__ne__', '__new__', '__reduce__', '__reduce_ex__', '__repr__', '__rmod__', '__rmul__', '__setattr__', '__sizeof__', '__str__', '__subclasshook__', 'capitalize', 'casefold', 'center', 'count', 'encode', 'endswith', 'expandtabs', 'find', 'format', 'format_map', 'index', 'isalnum', 'isalpha', 'isascii', 'isdecimal', 'isdigit', 'isidentifier', 'islower', 'isnumeric', 'isprintable', 'isspace', 'istitle', 'isupper', 'join', 'ljust', 'lower', 'lstrip', 'maketrans', 'partition', 'removeprefix', 'removesuffix', 'replace', 'rfind', 'rindex', 'rjust', 'rpartition', 'rsplit', 'rstrip', 'split', 'splitlines', 'startswith', 'strip', 'swapcase', 'title', 'translate', 'upper', 'zfill']\n"
     ]
    }
   ],
   "source": [
    "#Object types\n",
    "\n",
    "print(type(\"\")) #This is a string (because the \"\" is an empty string)\n",
    "\n",
    "print(type(1))\n",
    "print(type(True))\n",
    "print(type([]))\n",
    "print(type({}))\n",
    "print(dir(\"\")) #all the methods you can call on an object"
   ]
  },
  {
   "cell_type": "code",
   "execution_count": 10,
   "id": "e58c8397-417c-4d6e-9f2f-6c4d380305e0",
   "metadata": {
    "tags": []
   },
   "outputs": [
    {
     "name": "stdout",
     "output_type": "stream",
     "text": [
      "KATHRYN\n"
     ]
    }
   ],
   "source": [
    "#how do we manipulate string with method\n",
    "name=\"Kathryn\"\n",
    "print(name.upper())\n",
    "\n",
    "#you don't see print in the methods because it is a function. methods inside a class while funciton (like the def above) is by itself"
   ]
  },
  {
   "cell_type": "code",
   "execution_count": 11,
   "id": "11b856de-9fab-46a4-9c96-c2d104aee6ad",
   "metadata": {
    "tags": []
   },
   "outputs": [
    {
     "name": "stdout",
     "output_type": "stream",
     "text": [
      "<class 'function'>\n"
     ]
    }
   ],
   "source": [
    "print(type(say_hello)) #function class"
   ]
  },
  {
   "cell_type": "code",
   "execution_count": 12,
   "id": "96982da5-02ae-468d-b9b2-4305ef695e65",
   "metadata": {
    "tags": []
   },
   "outputs": [
    {
     "name": "stdout",
     "output_type": "stream",
     "text": [
      "[3, 'hello', True]\n"
     ]
    }
   ],
   "source": [
    "my_array=[3, \"hello\", True]\n",
    "print(my_array)"
   ]
  },
  {
   "cell_type": "code",
   "execution_count": 18,
   "id": "6b194d62-8b8c-4029-9dc2-051ce901bbb7",
   "metadata": {
    "tags": []
   },
   "outputs": [],
   "source": [
    "#Now talking classes\n",
    "#move to the terminal calling of python with main.py car.py"
   ]
  },
  {
   "cell_type": "code",
   "execution_count": null,
   "id": "e7d9f545-b73e-47d3-8112-defb309262d0",
   "metadata": {},
   "outputs": [],
   "source": [
    "#there is a cost for importing packages... you need to just be aware that packages might fall apart"
   ]
  }
 ],
 "metadata": {
  "kernelspec": {
   "display_name": "Python 3 (ipykernel)",
   "language": "python",
   "name": "python3"
  },
  "language_info": {
   "codemirror_mode": {
    "name": "ipython",
    "version": 3
   },
   "file_extension": ".py",
   "mimetype": "text/x-python",
   "name": "python",
   "nbconvert_exporter": "python",
   "pygments_lexer": "ipython3",
   "version": "3.11.5"
  }
 },
 "nbformat": 4,
 "nbformat_minor": 5
}
